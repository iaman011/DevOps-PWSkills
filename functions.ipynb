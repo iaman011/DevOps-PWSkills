{
  "nbformat": 4,
  "nbformat_minor": 0,
  "metadata": {
    "colab": {
      "provenance": []
    },
    "kernelspec": {
      "name": "python3",
      "display_name": "Python 3"
    },
    "language_info": {
      "name": "python"
    }
  },
  "cells": [
    {
      "cell_type": "markdown",
      "source": [
        "# Functions"
      ],
      "metadata": {
        "id": "W8NVUvngFKWV"
      }
    },
    {
      "cell_type": "markdown",
      "source": [
        "Q1. What is the difference between a function and a method in Python?"
      ],
      "metadata": {
        "id": "egs15xQbFPTz"
      }
    },
    {
      "cell_type": "markdown",
      "source": [
        "Ans: A function is a block of reusable code that performs a specific task and is defined using the def keyword. A method is a function that is associated with an object and is called using dot notation on that object. All methods are functions, but not all functions are methods.\n",
        "\n",
        "Example:"
      ],
      "metadata": {
        "id": "UdQ-NKy4Fg6K"
      }
    },
    {
      "cell_type": "code",
      "source": [
        "def greet():\n",
        "    print(\"Hello!\")  # Function\n",
        "\n",
        "name = \"aman\"\n",
        "print(name.upper())  # Method"
      ],
      "metadata": {
        "id": "y8_CJLgZFjdd"
      },
      "execution_count": null,
      "outputs": []
    },
    {
      "cell_type": "markdown",
      "source": [
        "AMAN"
      ],
      "metadata": {
        "id": "zR0n3VNSFoUz"
      }
    },
    {
      "cell_type": "markdown",
      "source": [
        "Q2. Explain the concept of function arguments and parameters in Python."
      ],
      "metadata": {
        "id": "PWPXLB0dFv2k"
      }
    },
    {
      "cell_type": "markdown",
      "source": [
        "Ans: Parameters are the variables listed in a function definition, while arguments are the actual values passed during function call. Python allows different types of arguments: positional, keyword, default, and variable-length. Understanding this concept helps in writing flexible and reusable functions.\n",
        "\n",
        "Example:"
      ],
      "metadata": {
        "id": "fHSWHbmJF0OF"
      }
    },
    {
      "cell_type": "code",
      "source": [
        "def greet(name):  # 'name' is a parameter\n",
        "    print(\"Hello\", name)\n",
        "\n",
        "greet(\"Aman\")  # \"Shubham\" is an argument\n"
      ],
      "metadata": {
        "id": "hCQvfOpyF2_x"
      },
      "execution_count": null,
      "outputs": []
    },
    {
      "cell_type": "markdown",
      "source": [
        "Hello Aman"
      ],
      "metadata": {
        "id": "6bg8xPhtF9SV"
      }
    },
    {
      "cell_type": "markdown",
      "source": [
        "Q3. What are the different ways to define and call a function in Python?"
      ],
      "metadata": {
        "id": "BokgjogYGAza"
      }
    },
    {
      "cell_type": "markdown",
      "source": [
        "Ans: You can define functions using the def keyword for normal functions or lambda for anonymous short functions. You call them using their name followed by parentheses. Lambda functions are commonly used with functions like map(), filter(), and reduce().\n",
        "\n",
        "Example:"
      ],
      "metadata": {
        "id": "5DOa0YkiGD2Y"
      }
    },
    {
      "cell_type": "code",
      "source": [
        "def add(a, b):\n",
        "    return a + b\n",
        "\n",
        "print(add(2, 3))\n",
        "\n",
        "add = lambda a, b: a + b\n",
        "print(add(2, 3))"
      ],
      "metadata": {
        "id": "V_xCypaSGGLj"
      },
      "execution_count": null,
      "outputs": []
    },
    {
      "cell_type": "markdown",
      "source": [
        "5\n",
        "\n",
        "5"
      ],
      "metadata": {
        "id": "HnY0s5mZGIik"
      }
    },
    {
      "cell_type": "markdown",
      "source": [
        "Q4. What is the purpose of the return statement in a Python function?"
      ],
      "metadata": {
        "id": "MFmWFzQQGK-M"
      }
    },
    {
      "cell_type": "markdown",
      "source": [
        "Ans: The return statement is used to send the result from a function back to the caller. It ends the execution of the function and passes the result to wherever the function was called. You can return any data type or even multiple values.\n",
        "\n",
        "Example:"
      ],
      "metadata": {
        "id": "Hlaj4YcdGUGe"
      }
    },
    {
      "cell_type": "code",
      "source": [
        "def multiply(a, b):\n",
        "    return a * b\n",
        "\n",
        "result = multiply(4, 5)\n",
        "print(result)"
      ],
      "metadata": {
        "id": "bwVirClwGWmO"
      },
      "execution_count": null,
      "outputs": []
    },
    {
      "cell_type": "markdown",
      "source": [
        "20"
      ],
      "metadata": {
        "id": "u53GjclGGZnI"
      }
    },
    {
      "cell_type": "markdown",
      "source": [
        "Q5. What are iterators in Python and how do they differ from iterables?"
      ],
      "metadata": {
        "id": "ycWFDHlYGa-k"
      }
    },
    {
      "cell_type": "markdown",
      "source": [
        "Ans: An iterator is an object that implements the iter() and next() methods. An iterable is an object like a list or tuple that can return an iterator using iter(). Iterators allow us to iterate over items one at a time, useful for large data processing.\n",
        "\n",
        "Example:"
      ],
      "metadata": {
        "id": "2-QfuM9pGeEq"
      }
    },
    {
      "cell_type": "code",
      "source": [
        "nums = [1, 2, 3]\n",
        "it = iter(nums)\n",
        "print(next(it))"
      ],
      "metadata": {
        "id": "Jxu-p1RNGj87"
      },
      "execution_count": null,
      "outputs": []
    },
    {
      "cell_type": "markdown",
      "source": [
        "1"
      ],
      "metadata": {
        "id": "l55lr2QDGkpO"
      }
    },
    {
      "cell_type": "markdown",
      "source": [
        "Q6. Explain the concept of generators in Python and how they are defined."
      ],
      "metadata": {
        "id": "NaaPmtbVGmGn"
      }
    },
    {
      "cell_type": "markdown",
      "source": [
        "Ans: Generators are special types of iterators that use the yield keyword instead of return. They are defined like normal functions but return values one at a time as they’re requested. This makes them memory-efficient and suitable for large datasets or streams.\n",
        "\n",
        "Example:"
      ],
      "metadata": {
        "id": "Fu5RbaN1GpE9"
      }
    },
    {
      "cell_type": "code",
      "source": [
        "\n",
        "def my_gen():\n",
        "    yield 1\n",
        "    yield 2\n",
        "\n",
        "for i in my_gen():\n",
        "    print(i)"
      ],
      "metadata": {
        "id": "Z2OjMDeAGv_S"
      },
      "execution_count": null,
      "outputs": []
    },
    {
      "cell_type": "markdown",
      "source": [
        "1\n",
        "\n",
        "2"
      ],
      "metadata": {
        "id": "I0-jKSfnGy_J"
      }
    },
    {
      "cell_type": "markdown",
      "source": [
        "Q7. What are the advantages of using generators over regular functions?"
      ],
      "metadata": {
        "id": "yTcwXJ8OG08r"
      }
    },
    {
      "cell_type": "markdown",
      "source": [
        "Ans:\n",
        "\n",
        "Memory Efficient: Generators don’t store all values in memory, they give one value at a time.\n",
        "\n",
        "Pause and Resume: They pause at each yield and continue when asked — saving time and resources.\n",
        "\n",
        "Handle Infinite Data: Generators are perfect for creating infinite sequences like Fibonacci or streams.\n",
        "\n",
        "Faster Start: They start giving results immediately without building the whole list first.\n",
        "\n",
        "Simple Code: Easy to write and use for large data tasks with less code.\n",
        "\n",
        "Example:"
      ],
      "metadata": {
        "id": "OxFvM9ZHG4fT"
      }
    },
    {
      "cell_type": "code",
      "source": [
        "def gen_numbers():\n",
        "    for i in range(5):\n",
        "        yield i  # gives one number at a time\n",
        "\n",
        "for num in gen_numbers():\n",
        "    print(num)"
      ],
      "metadata": {
        "id": "Ekb8nUFvG7b8"
      },
      "execution_count": null,
      "outputs": []
    },
    {
      "cell_type": "markdown",
      "source": [
        "0\n",
        "\n",
        "1\n",
        "\n",
        "2\n",
        "\n",
        "3\n",
        "\n",
        "4"
      ],
      "metadata": {
        "id": "BuSd5oasG9vc"
      }
    },
    {
      "cell_type": "markdown",
      "source": [
        "Q8. What is a lambda function in Python and when is it typically used?"
      ],
      "metadata": {
        "id": "_GaSjImUHC01"
      }
    },
    {
      "cell_type": "markdown",
      "source": [
        "Ans: A lambda function is a short, anonymous function written using the lambda keyword. It’s used for simple operations where defining a full function is unnecessary. Lambda functions are often used with map(), filter(), and sorted().\n",
        "\n",
        "Example:"
      ],
      "metadata": {
        "id": "ic9VaXdcHIaq"
      }
    },
    {
      "cell_type": "code",
      "source": [
        "square = lambda x: x * x\n",
        "print(square(5))\n",
        ""
      ],
      "metadata": {
        "id": "2sbXqOKTHLZe"
      },
      "execution_count": null,
      "outputs": []
    },
    {
      "cell_type": "markdown",
      "source": [
        "25"
      ],
      "metadata": {
        "id": "nhIxHvQuHOAB"
      }
    },
    {
      "cell_type": "markdown",
      "source": [
        "Q9. Explain the purpose and usage of the map() function in Python."
      ],
      "metadata": {
        "id": "P_iDEkglHPlz"
      }
    },
    {
      "cell_type": "markdown",
      "source": [
        "Ans: The map() function applies a given function to all items in an iterable. It returns a map object which can be converted to a list. This is useful for transforming data efficiently in a functional style.\n",
        "\n",
        "Example:"
      ],
      "metadata": {
        "id": "Pon9Tq-zHSaV"
      }
    },
    {
      "cell_type": "code",
      "source": [
        "nums = [1, 2, 3]\n",
        "doubled = list(map(lambda x: x*2, nums))\n",
        "print(doubled)\n"
      ],
      "metadata": {
        "id": "BOvAGIOKTHsf"
      },
      "execution_count": null,
      "outputs": []
    },
    {
      "cell_type": "markdown",
      "source": [
        "[2, 4, 6]"
      ],
      "metadata": {
        "id": "QXLEGMonTKTD"
      }
    },
    {
      "cell_type": "markdown",
      "source": [
        "Q10. What is the difference between map(), reduce(), and filter() functions in Python?"
      ],
      "metadata": {
        "id": "I2uv5hUmTMiC"
      }
    },
    {
      "cell_type": "markdown",
      "source": [
        "Ans:\n",
        "\n",
        "map() transforms all items in an iterable using a function.\n",
        "\n",
        "filter() filters out elements based on a condition.\n",
        "\n",
        "reduce() combines all elements into a single value (needs to be imported). These are core tools in functional programming in Python.\n",
        "\n",
        "Example:"
      ],
      "metadata": {
        "id": "XnwvraFUTPJi"
      }
    },
    {
      "cell_type": "code",
      "source": [
        "\n",
        "from functools import reduce\n",
        "\n",
        "nums = [1, 2, 3, 4]\n",
        "print(list(map(lambda x: x+1, nums)))\n",
        "print(list(filter(lambda x: x%2==0, nums)))\n",
        "print(reduce(lambda x, y: x + y, nums))"
      ],
      "metadata": {
        "id": "JiwqgLbeTUPP"
      },
      "execution_count": null,
      "outputs": []
    },
    {
      "cell_type": "markdown",
      "source": [
        "[2, 3, 4, 5]\n",
        "\n",
        "[2, 4]\n",
        "\n",
        "10"
      ],
      "metadata": {
        "id": "pRa5hpXyTU0e"
      }
    },
    {
      "cell_type": "markdown",
      "source": [
        "Q11. Internal mechanism for sum using reduce on list [47, 11, 42, 13]"
      ],
      "metadata": {
        "id": "xEo_b5G7Tb-7"
      }
    },
    {
      "cell_type": "markdown",
      "source": [
        "Ans: The reduce() function is used to apply a function cumulatively to the elements of a list, from left to right, so as to reduce the list to a single value.\n",
        "\n",
        "Here, we want to add all numbers using:"
      ],
      "metadata": {
        "id": "HJ36VcsCTXKO"
      }
    },
    {
      "cell_type": "code",
      "source": [
        "reduce(lambda x, y: x + y, [47, 11, 42, 13])"
      ],
      "metadata": {
        "id": "HZ4c1Mm-ThLh"
      },
      "execution_count": null,
      "outputs": []
    },
    {
      "cell_type": "markdown",
      "source": [
        "113"
      ],
      "metadata": {
        "id": "-NHiOk8qTkhs"
      }
    },
    {
      "cell_type": "markdown",
      "source": [
        "# Practical Answers"
      ],
      "metadata": {
        "id": "HIso8fH4TlRM"
      }
    },
    {
      "cell_type": "markdown",
      "source": [
        "1. Sum of even numbers"
      ],
      "metadata": {
        "id": "55iAP-OFTp46"
      }
    },
    {
      "cell_type": "code",
      "source": [
        "\n",
        "def sum_even(nums):\n",
        "    return sum([x for x in nums if x % 2 == 0])\n",
        "\n",
        "print(sum_even([1, 2, 3, 4, 5]))"
      ],
      "metadata": {
        "id": "EiLF7pStTvqC"
      },
      "execution_count": null,
      "outputs": []
    },
    {
      "cell_type": "markdown",
      "source": [
        "6"
      ],
      "metadata": {
        "id": "pwoley3pTxGr"
      }
    },
    {
      "cell_type": "markdown",
      "source": [
        "2. Reverse a string:"
      ],
      "metadata": {
        "id": "3KQuE0XOTyAx"
      }
    },
    {
      "cell_type": "markdown",
      "source": [],
      "metadata": {
        "id": "FzX3N-6IVbut"
      }
    },
    {
      "cell_type": "markdown",
      "source": [
        "def reverse_string(s):\n",
        "    return s[::-1]\n",
        "\n",
        "print(reverse_string(\"hello\"))"
      ],
      "metadata": {
        "id": "Rcm_nGrUVbzq"
      }
    },
    {
      "cell_type": "markdown",
      "source": [
        "olleh"
      ],
      "metadata": {
        "id": "3S-w7-2lVckn"
      }
    },
    {
      "cell_type": "markdown",
      "source": [
        "3. Square of each number:"
      ],
      "metadata": {
        "id": "fZHXJjQJVeyJ"
      }
    },
    {
      "cell_type": "markdown",
      "source": [
        "\n",
        "def square_list(lst):\n",
        "    return [x**2 for x in lst]\n",
        "\n",
        "print(square_list([1, 2, 3]))"
      ],
      "metadata": {
        "id": "9CjhK9zQVhsn"
      }
    },
    {
      "cell_type": "markdown",
      "source": [
        "[1, 4, 9]"
      ],
      "metadata": {
        "id": "XipqhOBUVkGn"
      }
    },
    {
      "cell_type": "markdown",
      "source": [
        "4. Prime numbers from 1 to 200:"
      ],
      "metadata": {
        "id": "AIo7TI3FVmvY"
      }
    },
    {
      "cell_type": "markdown",
      "source": [
        "\n",
        "def is_prime(n):\n",
        "    if n < 2:\n",
        "        return False\n",
        "    for i in range(2, int(n**0.5)+1):\n",
        "        if n % i == 0:\n",
        "            return False\n",
        "    return True\n",
        "\n",
        "for i in range(1, 201):\n",
        "    if is_prime(i):\n",
        "        print(i, end=\" \")"
      ],
      "metadata": {
        "id": "83tC5TXqVpF3"
      }
    },
    {
      "cell_type": "markdown",
      "source": [
        "2 3 5 7 11 13 17 19 23 29 31 37 41 43 47 53 59 61 67 71 73 79 83 89 97 101 103 107 109 113 127 131 137 139 149 151 157 163 167 173 179 181 191 193 197 199"
      ],
      "metadata": {
        "id": "I0caBx11VrZB"
      }
    },
    {
      "cell_type": "markdown",
      "source": [
        "5. Fibonacci Iterator Class:"
      ],
      "metadata": {
        "id": "_8oCWXKdVtpT"
      }
    },
    {
      "cell_type": "code",
      "source": [
        "class Fibonacci:\n",
        "    def __init__(self, n):\n",
        "        self.n = n\n",
        "        self.a = 0\n",
        "        self.b = 1\n",
        "        self.count = 0\n",
        "\n",
        "    def __iter__(self):\n",
        "        return self\n",
        "\n",
        "    def __next__(self):\n",
        "        if self.count >= self.n:\n",
        "            raise StopIteration\n",
        "        self.count += 1\n",
        "        self.a, self.b = self.b, self.a + self.b\n",
        "        return self.a\n",
        "\n",
        "for num in Fibonacci(10):\n",
        "    print(num)"
      ],
      "metadata": {
        "id": "pIYec-89VwQB"
      },
      "execution_count": null,
      "outputs": []
    },
    {
      "cell_type": "markdown",
      "source": [
        "1\n",
        "\n",
        "1\n",
        "\n",
        "2\n",
        "\n",
        "3\n",
        "\n",
        "5\n",
        "\n",
        "8\n",
        "\n",
        "13\n",
        "\n",
        "21\n",
        "\n",
        "34\n",
        "\n",
        "55"
      ],
      "metadata": {
        "id": "0Y6_9dViVyy1"
      }
    },
    {
      "cell_type": "markdown",
      "source": [
        "6. Powers of 2 Generator:"
      ],
      "metadata": {
        "id": "bj7lbWc8V9IS"
      }
    },
    {
      "cell_type": "code",
      "source": [
        "def power_two(n):\n",
        "    for i in range(n+1):\n",
        "        yield 2**i\n",
        "\n",
        "for val in power_two(5):\n",
        "    print(val)"
      ],
      "metadata": {
        "id": "k01EX7tMWBNX"
      },
      "execution_count": null,
      "outputs": []
    },
    {
      "cell_type": "markdown",
      "source": [
        "1\n",
        "\n",
        "2\n",
        "\n",
        "4\n",
        "\n",
        "8\n",
        "\n",
        "16\n",
        "\n",
        "32"
      ],
      "metadata": {
        "id": "JDUr1pruWDZ1"
      }
    },
    {
      "cell_type": "markdown",
      "source": [
        "7. File line-by-line generator:"
      ],
      "metadata": {
        "id": "iRXIpL9RWJT3"
      }
    },
    {
      "cell_type": "code",
      "source": [
        "def read_lines(filename):\n",
        "    with open(filename) as f:\n",
        "        for line in f:\n",
        "            yield line.strip()\n",
        "\n",
        "# for line in read_lines(\"myfile.txt\"):\n",
        "    print(line)"
      ],
      "metadata": {
        "id": "ofx7LE_4WhEh"
      },
      "execution_count": null,
      "outputs": []
    },
    {
      "cell_type": "markdown",
      "source": [
        "8. Sort tuples by second element using lambda:"
      ],
      "metadata": {
        "id": "pIh08kcXWlOQ"
      }
    },
    {
      "cell_type": "code",
      "source": [
        "\n",
        "data = [(1, 3), (2, 1), (3, 2)]\n",
        "sorted_data = sorted(data, key=lambda x: x[1])\n",
        "print(sorted_data)"
      ],
      "metadata": {
        "id": "hEIFiNKoWn0s"
      },
      "execution_count": null,
      "outputs": []
    },
    {
      "cell_type": "markdown",
      "source": [
        "[(2, 1), (3, 2), (1, 3)]"
      ],
      "metadata": {
        "id": "Nf5B9vQpWrAE"
      }
    },
    {
      "cell_type": "markdown",
      "source": [
        "9. Convert Celsius to Fahrenheit using map():"
      ],
      "metadata": {
        "id": "l0LG-gw9WuJO"
      }
    },
    {
      "cell_type": "code",
      "source": [
        "celsius = [0, 20, 30]\n",
        "fahrenheit = list(map(lambda x: (x * 9/5) + 32, celsius))\n",
        "print(fahrenheit)"
      ],
      "metadata": {
        "id": "ahjlpGtPXA0y"
      },
      "execution_count": null,
      "outputs": []
    },
    {
      "cell_type": "markdown",
      "source": [
        "[32.0, 68.0, 86.0]"
      ],
      "metadata": {
        "id": "LB_FEHF4XFz6"
      }
    },
    {
      "cell_type": "markdown",
      "source": [
        "10. Remove vowels using filter():"
      ],
      "metadata": {
        "id": "iZYYG-X5XIFE"
      }
    },
    {
      "cell_type": "code",
      "source": [
        "\n",
        "def remove_vowels(s):\n",
        "    return ''.join(filter(lambda x: x.lower() not in 'aeiou', s))\n",
        "\n",
        "print(remove_vowels(\"Hello World\"))"
      ],
      "metadata": {
        "id": "U69pbPTiXNe2"
      },
      "execution_count": null,
      "outputs": []
    },
    {
      "cell_type": "markdown",
      "source": [
        "Hll Wrld"
      ],
      "metadata": {
        "id": "mfDBwYJVXRQl"
      }
    },
    {
      "cell_type": "markdown",
      "source": [
        "11. Accounting program using lambda + map:"
      ],
      "metadata": {
        "id": "-0uQW3MuXU3K"
      }
    },
    {
      "cell_type": "code",
      "source": [
        "\n",
        "orders = [\n",
        "    [34587, \"Learning Python\", 4, 40.95],\n",
        "    [98762, \"Programming Java\", 5, 17.50],\n",
        "    [77226, \"Data Science\", 3, 56.00],\n",
        "    [88112, \"AI Basics\", 3, 32.95]\n",
        "]\n",
        "\n",
        "result = list(map(lambda order: (order[0], order[2]*order[3] + (10 if order[2]*order[3] < 100 else 0)), orders))\n",
        "print(result)"
      ],
      "metadata": {
        "id": "5W9KwWiTXah8"
      },
      "execution_count": null,
      "outputs": []
    },
    {
      "cell_type": "markdown",
      "source": [
        "[(34587, 163.8), (98762, 97.5), (77226, 168.0), (88112, 108.85000000000001)]"
      ],
      "metadata": {
        "id": "0gSnT8deXeF1"
      }
    }
  ]
}