{
  "nbformat": 4,
  "nbformat_minor": 0,
  "metadata": {
    "colab": {
      "provenance": []
    },
    "kernelspec": {
      "name": "python3",
      "display_name": "Python 3"
    },
    "language_info": {
      "name": "python"
    }
  },
  "cells": [
    {
      "cell_type": "markdown",
      "source": [
        "# Python"
      ],
      "metadata": {
        "id": "Ql1bc0RoBkeK"
      }
    },
    {
      "cell_type": "markdown",
      "source": [
        "1. Explain the key features of Python that make it a popular choice for programming."
      ],
      "metadata": {
        "id": "1b_kB5E1BsaU"
      }
    },
    {
      "cell_type": "markdown",
      "source": [
        "-> Python is popular because of its simplicity, versatility, and large community support.\n",
        "\n",
        "**Main Features:**\n",
        "\n",
        "Easy to Learn and Read – Syntax is close to English.\n",
        "\n",
        "- Example: print(\"Hello, World!\")\n",
        "\n",
        "\n",
        "Interpreted Language – No need to compile; code runs line by line.\n",
        "\n",
        "Cross-platform – Works on Windows, macOS, Linux without changes.\n",
        "\n",
        "Extensive Libraries – Has built-in and third-party modules.\n",
        "\n",
        "Versatile – Used in web dev, data science, AI, automation, etc.\n",
        "\n",
        "Dynamic Typing – No need to declare variable types explicitly."
      ],
      "metadata": {
        "id": "0h4FTsrbCtiH"
      }
    },
    {
      "cell_type": "markdown",
      "source": [
        "2. Describe the role of predefined keywords in Python and provide examples of how they are used in a program."
      ],
      "metadata": {
        "id": "YuAXAZL5DHId"
      }
    },
    {
      "cell_type": "markdown",
      "source": [
        "-> In Python, keywords are special reserved words that hold predefined meanings and purposes. These words form the basic building blocks of Python syntax and cannot be used as variable names, function names, or identifiers, as doing so would cause a syntax error. Python keywords are all in lowercase (except True, False, and None) and are used to define the structure and flow of programs.\n",
        "\n",
        "Keywords help Python understand what operations to perform; for instance, if, else, and elif are used for conditional statements, for and while for looping, and def for defining functions. Without keywords, it would be impossible to write meaningful Python programs, as they define how statements are interpreted by the Python interpreter."
      ],
      "metadata": {
        "id": "nQnWwaFeDLna"
      }
    },
    {
      "cell_type": "code",
      "source": [
        "if True:\n",
        "    print(\"Condition is True\")\n",
        "\n",
        "for i in range(3):\n",
        "    print(i)"
      ],
      "metadata": {
        "id": "F8mZcNk-DuKf"
      },
      "execution_count": null,
      "outputs": []
    },
    {
      "cell_type": "markdown",
      "source": [
        "3. Compare and contrast mutable and immutable objects in Python with examples."
      ],
      "metadata": {
        "id": "tU8Nk_hvDyr5"
      }
    },
    {
      "cell_type": "markdown",
      "source": [
        "-> In Python, mutability refers to whether an object’s value can be changed after creation.\n",
        "\n",
        "- Mutable objects can be modified after they are created. Lists, dictionaries, and sets fall into this category.\n",
        "\n",
        "- Immutable objects cannot be changed after creation. Examples include strings, tuples, and integers.\n",
        "\n",
        "When you change a mutable object, the same memory location is updated. However, when you attempt to change an immutable object, Python creates a new object in memory with the updated value, leaving the original unchanged. Understanding this concept is crucial for writing efficient and bug-free programs, especially when passing objects as function arguments."
      ],
      "metadata": {
        "id": "aOBfaqisD5-B"
      }
    },
    {
      "cell_type": "code",
      "source": [
        "# Mutable example\n",
        "my_list = [1, 2, 3]\n",
        "my_list.append(4)  # Modifies existing list\n",
        "print(my_list)  # [1, 2, 3, 4]\n",
        "\n",
        "# Immutable example\n",
        "name = \"Aman\"\n",
        "name = \"Singh\"  # Creates a new string\n",
        "print(name)  # Singh"
      ],
      "metadata": {
        "id": "yVcBHl0ID-_y"
      },
      "execution_count": null,
      "outputs": []
    },
    {
      "cell_type": "markdown",
      "source": [
        "4. Discuss the different types of operators in Python and provide examples of how they are used."
      ],
      "metadata": {
        "id": "an1LrrlhEQnd"
      }
    },
    {
      "cell_type": "markdown",
      "source": [
        "-> Operators in Python are special symbols that perform operations on variables and values.\n",
        "\n",
        "They can be classified as:\n",
        "\n",
        "- Arithmetic Operators – Perform mathematical operations: +, -, *, /, %, **, //.\n",
        "\n",
        "- Relational/Comparison Operators – Compare values: ==, !=, >, <, >=, <=.\n",
        "\n",
        "- Logical Operators – Combine conditional statements: and, or, not.\n",
        "\n",
        "- Assignment Operators – Assign values: =, +=, -=, *=, /=.\n",
        "\n",
        "- Bitwise Operators – Operate on binary data: &, |, ^, ~, <<, >>.\n",
        "\n",
        "- Membership Operators – Test membership: in, not in.\n",
        "\n",
        "- Identity Operators – Compare object memory locations: is, is not."
      ],
      "metadata": {
        "id": "v9ncr3h9EUCf"
      }
    },
    {
      "cell_type": "code",
      "source": [
        "a = 10\n",
        "b = 5\n",
        "\n",
        "# Arithmetic\n",
        "print(a + b)  # 15\n",
        "\n",
        "# Comparison\n",
        "print(a > b)  # True\n",
        "\n",
        "# Logical\n",
        "print(a > 0 and b > 0)  # True\n",
        "\n",
        "# Membership\n",
        "print(2 in [1, 2, 3])  # True\n"
      ],
      "metadata": {
        "id": "mc37ZWUcEcBD"
      },
      "execution_count": null,
      "outputs": []
    },
    {
      "cell_type": "markdown",
      "source": [
        "5. Explain the concept of type casting in Python with examples."
      ],
      "metadata": {
        "id": "6mpvo_0TEfEW"
      }
    },
    {
      "cell_type": "markdown",
      "source": [
        "-> Type casting refers to converting a variable from one data type to another.\n",
        "\n",
        "Python supports two types of type casting:\n",
        "\n",
        "- Implicit Type Casting: Automatically performed by Python when safe (e.g., int to float).\n",
        "\n",
        "- Explicit Type Casting: Manually performed using functions like int(), float(), str().\n",
        "\n",
        "Type casting is useful when performing operations between incompatible data types, such as concatenating numbers and strings or performing arithmetic on numeric strings."
      ],
      "metadata": {
        "id": "OKIPHOL2EjyB"
      }
    },
    {
      "cell_type": "code",
      "source": [
        "# Implicit casting\n",
        "x = 5\n",
        "y = 2.5\n",
        "result = x + y  # int converted to float automatically\n",
        "print(result)  # 7.5\n",
        "\n",
        "# Explicit casting\n",
        "num_str = \"10\"\n",
        "num_int = int(num_str)\n",
        "print(num_int + 5)  # 15\n"
      ],
      "metadata": {
        "id": "Q_oH0D-cE2Pk"
      },
      "execution_count": null,
      "outputs": []
    },
    {
      "cell_type": "markdown",
      "source": [
        "6. How do conditional statements work in Python? Illustrate with examples."
      ],
      "metadata": {
        "id": "vkQFWTl9HUef"
      }
    },
    {
      "cell_type": "markdown",
      "source": [
        "-> Conditional statements allow programs to make decisions based on certain conditions.\n",
        "\n",
        "Python uses if, elif, and else to control the flow of execution.\n",
        "\n",
        "- if: Executes a block if the condition is True.\n",
        "\n",
        "- elif: Executes if the previous if condition is False and its own condition is True.\n",
        "\n",
        "- else: Executes if all previous conditions are False.\n",
        "\n",
        "They are fundamental for implementing decision-making logic in programs."
      ],
      "metadata": {
        "id": "EmDSqL4sFBU_"
      }
    },
    {
      "cell_type": "code",
      "source": [
        "age = 18\n",
        "if age >= 18:\n",
        "    print(\"You are an adult\")\n",
        "elif age > 13:\n",
        "    print(\"Teenager\")\n",
        "else:\n",
        "    print(\"Child\")\n"
      ],
      "metadata": {
        "id": "97jfUMfZFSZ0"
      },
      "execution_count": null,
      "outputs": []
    },
    {
      "cell_type": "markdown",
      "source": [
        "7. Describe the different types of loops in Python and their use cases with examples."
      ],
      "metadata": {
        "id": "ThT_NWS3FVW4"
      }
    },
    {
      "cell_type": "markdown",
      "source": [
        "-> Loops are used to execute a block of code repeatedly until a condition is met.\n",
        "\n",
        "Python has:\n",
        "\n",
        "- For Loop – Iterates over a sequence such as a list, tuple, or string.\n",
        "\n",
        "- While Loop – Runs as long as a condition is true.\n",
        "\n",
        "- Nested Loops – A loop inside another loop for complex iterations.\n",
        "\n",
        "Loop control statements like break, continue, and pass allow finer control over loop execution."
      ],
      "metadata": {
        "id": "4Pkn_4FkFYzM"
      }
    },
    {
      "cell_type": "code",
      "source": [
        "# For loop\n",
        "for i in range(5):\n",
        "    print(i)\n",
        "\n",
        "# While loop\n",
        "x = 0\n",
        "while x < 3:\n",
        "    print(x)\n",
        "    x += 1\n",
        "\n",
        "# Using break\n",
        "for num in range(10):\n",
        "    if num == 5:\n",
        "        break\n",
        "    print(num)\n"
      ],
      "metadata": {
        "id": "dC_n7H6hFjyb"
      },
      "execution_count": null,
      "outputs": []
    }
  ]
}