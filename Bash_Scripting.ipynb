{
  "nbformat": 4,
  "nbformat_minor": 0,
  "metadata": {
    "colab": {
      "provenance": []
    },
    "kernelspec": {
      "name": "python3",
      "display_name": "Python 3"
    },
    "language_info": {
      "name": "python"
    }
  },
  "cells": [
    {
      "cell_type": "markdown",
      "source": [
        "# Bash Scripting"
      ],
      "metadata": {
        "id": "VvH8ywh60tiW"
      }
    },
    {
      "cell_type": "markdown",
      "source": [
        "Task 1: File Management Script Write a Bash script that Creates a directory named \"backup\" in the user's home directory Copies all .txt files from the current directory into the \"backup\" directory Appends the current date and time to the filenames of the copied files."
      ],
      "metadata": {
        "id": "k0LzBHHU1Dpn"
      }
    },
    {
      "cell_type": "code",
      "source": [
        "#!/bin/bash\n",
        "\n",
        "# Create 'backup' directory in the user's home if not exists\n",
        "mkdir -p ~/backup\n",
        "\n",
        "# Loop through all .txt files in current directory\n",
        "for file in *.txt; do\n",
        "    # Check if file exists to avoid errors when no txt files\n",
        "    if [ -f \"$file\" ]; then\n",
        "        # Get current date-time\n",
        "        datetime=$(date +\"%Y-%m-%d_%H-%M-%S\")\n",
        "        # Copy file to backup with date-time appended\n",
        "        cp \"$file\" ~/backup/\"${file%.txt}_$datetime.txt\"\n",
        "    fi\n",
        "done\n",
        "\n",
        "echo \"Backup completed!\"\n"
      ],
      "metadata": {
        "id": "WIjiKScX1I_M"
      },
      "execution_count": null,
      "outputs": []
    },
    {
      "cell_type": "markdown",
      "source": [
        "Task 2: System Health Check Create a script that Checks the system’s CPU and memory usage Reports if the CPU usage is above 80% or if the available memory is below 20% Logs the results to a file named system_health.log."
      ],
      "metadata": {
        "id": "T-7WDBK01Oew"
      }
    },
    {
      "cell_type": "code",
      "source": [
        "#!/bin/bash\n",
        "\n",
        "# Get CPU usage (extracts idle value, subtracts from 100)\n",
        "cpu_usage=$(top -bn1 | grep \"Cpu(s)\" | awk '{print 100 - $8}')\n",
        "\n",
        "# Get available memory percentage\n",
        "mem_free=$(free | grep Mem | awk '{printf \"%.0f\", $7/$2 * 100}')\n",
        "\n",
        "# Log file\n",
        "log_file=\"system_health.log\"\n",
        "\n",
        "# Check conditions and log\n",
        "{\n",
        "    echo \"==== System Health Check: $(date) ====\"\n",
        "    echo \"CPU Usage: $cpu_usage%\"\n",
        "    echo \"Free Memory: $mem_free%\"\n",
        "\n",
        "    if (( $(echo \"$cpu_usage > 80\" | bc -l) )); then\n",
        "        echo \"Warning: CPU usage is above 80%\"\n",
        "    fi\n",
        "\n",
        "    if [ \"$mem_free\" -lt 20 ]; then\n",
        "        echo \"Warning: Available memory is below 20%\"\n",
        "    fi\n",
        "\n",
        "    echo \"======================================\"\n",
        "} >> \"$log_file\"\n"
      ],
      "metadata": {
        "id": "yTQzSCLF1Q_b"
      },
      "execution_count": null,
      "outputs": []
    },
    {
      "cell_type": "markdown",
      "source": [
        "Task 3: User Account Management Write a script that Reads a list of usernames from a file (e.g., user_list.txt) Creates a new user for each username Generates a random password for each user and saves the username and password to a file named credentials.txt."
      ],
      "metadata": {
        "id": "WlpwkWFR1hKz"
      }
    },
    {
      "cell_type": "code",
      "source": [
        "#!/bin/bash\n",
        "\n",
        "# Check for user_list.txt\n",
        "if [ ! -f \"user_list.txt\" ]; then\n",
        "    echo \"user_list.txt not found!\"\n",
        "    exit 1\n",
        "fi\n",
        "\n",
        "# Clear credentials file\n",
        "> credentials.txt\n",
        "\n",
        "# Loop through usernames and create users\n",
        "while read -r username; do\n",
        "    sudo useradd \"$username\"\n",
        "    password=$(openssl rand -base64 12)\n",
        "    echo \"$username:$password\" | sudo chpasswd\n",
        "    echo \"$username $password\" >> credentials.txt\n",
        "done < user_list.txt\n",
        "\n",
        "echo \"Users created and credentials saved to credentials.txt\"\n"
      ],
      "metadata": {
        "id": "AZVVql2g1l9a"
      },
      "execution_count": null,
      "outputs": []
    },
    {
      "cell_type": "markdown",
      "source": [
        "Task 4: Automated Backup Create a script that Takes a directory path as input from the user Compresses the directory into a .tar.gz file Saves the compressed file with a name that includes the current date (e.g., backup_2023-08-20.tar.gz)."
      ],
      "metadata": {
        "id": "Ay9jiXJp1pAy"
      }
    },
    {
      "cell_type": "code",
      "source": [
        "#!/bin/bash\n",
        "\n",
        "# Ask for directory path\n",
        "read -p \"Enter directory path to backup: \" dir_path\n",
        "\n",
        "# Check if directory exists\n",
        "if [ ! -d \"$dir_path\" ]; then\n",
        "    echo \"Directory does not exist!\"\n",
        "    exit 1\n",
        "fi\n",
        "\n",
        "# Get current date\n",
        "date_now=$(date +%Y-%m-%d)\n",
        "\n",
        "# Create compressed backup file\n",
        "tar -czf \"backup_$date_now.tar.gz\" \"$dir_path\"\n",
        "\n",
        "echo \"Backup completed: backup_$date_now.tar.gz\"\n"
      ],
      "metadata": {
        "id": "bLp4c44x1tGn"
      },
      "execution_count": null,
      "outputs": []
    },
    {
      "cell_type": "markdown",
      "source": [
        "Task 5: Simple To-Do List Create a Bash script that Implements a simple command-line to-do list Allows the user to add tasks, view tasks, and remove tasks Saves the tasks to a file (e.g., todo.txt)."
      ],
      "metadata": {
        "id": "m5DMLSMZ1wku"
      }
    },
    {
      "cell_type": "code",
      "source": [
        "#!/bin/bash\n",
        "\n",
        "todo_file=\"todo.txt\"\n",
        "\n",
        "# Ensure todo file exists\n",
        "touch \"$todo_file\"\n",
        "\n",
        "while true; do\n",
        "    echo \"1. Add Task\"\n",
        "    echo \"2. View Tasks\"\n",
        "    echo \"3. Remove Task\"\n",
        "    echo \"4. Exit\"\n",
        "    read -p \"Choose an option: \" choice\n",
        "\n",
        "    case $choice in\n",
        "        1)\n",
        "            read -p \"Enter task: \" task\n",
        "            echo \"$task\" >> \"$todo_file\"\n",
        "            ;;\n",
        "        2)\n",
        "            echo \"To-Do List:\"\n",
        "            nl \"$todo_file\"\n",
        "            ;;\n",
        "        3)\n",
        "            nl \"$todo_file\"\n",
        "            read -p \"Enter task number to remove: \" num\n",
        "            sed -i \"${num}d\" \"$todo_file\"\n",
        "            ;;\n",
        "        4)\n",
        "            exit 0\n",
        "            ;;\n",
        "        *)\n",
        "            echo \"Invalid option.\"\n",
        "            ;;\n",
        "    esac\n",
        "done\n"
      ],
      "metadata": {
        "id": "WFCkfRK912dj"
      },
      "execution_count": null,
      "outputs": []
    },
    {
      "cell_type": "markdown",
      "source": [
        "Task 6: Automated Software Installation Write a script that Reads a list of software package names from a file (e.g., packages.txt) Installs each package using the appropriate package manager (apt, yum, etc.) Logs the installation status of each package."
      ],
      "metadata": {
        "id": "XO-8ZYpf14I9"
      }
    },
    {
      "cell_type": "code",
      "source": [
        "#!/bin/bash\n",
        "\n",
        "# Detect package manager\n",
        "if command -v apt &> /dev/null; then\n",
        "    pkg_mgr=\"sudo apt install -y\"\n",
        "elif command -v yum &> /dev/null; then\n",
        "    pkg_mgr=\"sudo yum install -y\"\n",
        "else\n",
        "    echo \"Unsupported package manager!\"\n",
        "    exit 1\n",
        "fi\n",
        "\n",
        "# Log file\n",
        "log_file=\"install_log.txt\"\n",
        "\n",
        "# Check if packages.txt exists\n",
        "if [ ! -f \"packages.txt\" ]; then\n",
        "    echo \"packages.txt not found!\"\n",
        "    exit 1\n",
        "fi\n",
        "\n",
        "# Install packages\n",
        "while read -r package; do\n",
        "    if $pkg_mgr \"$package\" &> /dev/null; then\n",
        "        echo \"$package installation successful.\" >> \"$log_file\"\n",
        "    else\n",
        "        echo \"$package installation failed.\" >> \"$log_file\"\n",
        "    fi\n",
        "done < packages.txt\n",
        "\n",
        "echo \"Installation completed. Log saved to $log_file.\"\n"
      ],
      "metadata": {
        "id": "QnKDk4U-16le"
      },
      "execution_count": null,
      "outputs": []
    },
    {
      "cell_type": "markdown",
      "source": [
        "Task 7: Text File Processing Create a script that Takes a text file as input Counts and displays the number of lines, words, and characters in the file Finds and displays the longest word in the file."
      ],
      "metadata": {
        "id": "IHsfOv6-19jj"
      }
    },
    {
      "cell_type": "code",
      "source": [
        "#!/bin/bash\n",
        "\n",
        "# Get input file\n",
        "read -p \"Enter text file path: \" file\n",
        "\n",
        "# Check file existence\n",
        "if [ ! -f \"$file\" ]; then\n",
        "    echo \"File not found!\"\n",
        "    exit 1\n",
        "fi\n",
        "\n",
        "# Count lines, words, characters\n",
        "lines=$(wc -l < \"$file\")\n",
        "words=$(wc -w < \"$file\")\n",
        "chars=$(wc -m < \"$file\")\n",
        "\n",
        "# Find longest word\n",
        "longest_word=$(tr -s '[:space:]' '\\n' < \"$file\" |\n",
        "               awk '{ if (length > max) { max = length; longest = $0 } } END\n",
        "               { print longest }')\n",
        "\n",
        "# Display results\n",
        "echo \"Lines: $lines\"\n",
        "echo \"Words: $words\"\n",
        "echo \"Characters: $chars\"\n",
        "echo \"Longest Word: $longest_word\"\n"
      ],
      "metadata": {
        "id": "jF489nd52Cgo"
      },
      "execution_count": null,
      "outputs": []
    }
  ]
}