{
  "nbformat": 4,
  "nbformat_minor": 0,
  "metadata": {
    "colab": {
      "provenance": []
    },
    "kernelspec": {
      "name": "python3",
      "display_name": "Python 3"
    },
    "language_info": {
      "name": "python"
    }
  },
  "cells": [
    {
      "cell_type": "markdown",
      "source": [
        "#Linux\n"
      ],
      "metadata": {
        "id": "yvhu5ro8ypIY"
      }
    },
    {
      "cell_type": "markdown",
      "source": [
        "1. What is Linux?\n",
        "\n",
        "-> Linux is a free, open-source, Unix-like operating system based on the Linux kernel. It acts as an interface between the computer hardware and the user. It is widely used for servers, desktops, mobile devices, and embedded systems due to its stability, security, and flexibility."
      ],
      "metadata": {
        "id": "6LtPN09u4KBf"
      }
    },
    {
      "cell_type": "markdown",
      "source": [
        "2. What is the difference between Hard Link & Soft Link?\n",
        "\n",
        "-> A Hard Link is an exact copy of the original file, where both the original file and its hard link share the same inode number and data blocks on the disk. This means that even if the original file is deleted, the hard link remains fully functional, as it still points directly to the data. However, hard links cannot be created for directories.\n",
        "\n",
        "-> A Soft Link (also called a Symbolic Link) acts as a shortcut or reference to the original file. It has a different inode number and only stores the path to the original file. If the original file is deleted or moved, the soft link becomes broken and no longer works. Unlike hard links, soft links can be created for both files and directories."
      ],
      "metadata": {
        "id": "QdBxykPy0knu"
      }
    },
    {
      "cell_type": "markdown",
      "source": [
        "3. What is a Kernel in Linux?\n",
        "\n",
        "-> The Kernel is the core component of the Linux operating system that manages system resources, such as CPU, memory, and devices. It acts as a bridge between hardware and software applications, handling process management, device control, file management, and security.\n",
        "\n"
      ],
      "metadata": {
        "id": "m54HpjSn0_HR"
      }
    },
    {
      "cell_type": "markdown",
      "source": [
        "4. How do you create a user account?"
      ],
      "metadata": {
        "id": "PjTNDU281z4o"
      }
    },
    {
      "cell_type": "code",
      "source": [
        "sudo useradd aman    #creates a new user named aman\n",
        "sudo passwd aman11   #To set the Password"
      ],
      "metadata": {
        "id": "GeVlpWgx13Qd"
      },
      "execution_count": null,
      "outputs": []
    },
    {
      "cell_type": "markdown",
      "source": [
        "5. What is the ‘grep’ command used for in Linux?\n",
        "\n",
        "-> The grep command is used to search for a specific pattern or text within files or input provided. It displays lines that match the given pattern."
      ],
      "metadata": {
        "id": "F6u3giZB2KJW"
      }
    },
    {
      "cell_type": "markdown",
      "source": [
        "6. Steps to Create User p1 and Add to Groups g1, g2, g3 and Set Default Group g1"
      ],
      "metadata": {
        "id": "mRWNoDSR2SM-"
      }
    },
    {
      "cell_type": "code",
      "source": [
        "#Create groups\n",
        "\n",
        "sudo groupadd g1\n",
        "sudo groupadd g2\n",
        "sudo groupadd g3\n",
        "\n",
        "#Create user p1 and add to groups\n",
        "\n",
        "sudo useradd -G g1,g2,g3 -g g1 p1   #Here -G adds to additional groups and -g sets the default group.\n",
        "\n"
      ],
      "metadata": {
        "id": "m31DNTHN2YNo"
      },
      "execution_count": null,
      "outputs": []
    },
    {
      "cell_type": "markdown",
      "source": [
        "7. Steps to Create Directory /tmp/bg and Set Ownership and Permissions"
      ],
      "metadata": {
        "id": "6sH3M87p2nxE"
      }
    },
    {
      "cell_type": "code",
      "source": [
        "sudo mkdir /tmp/bg   #Create directory as root\n",
        "\n",
        "sudo chown abhi:abhi /tmp/bg   #Change ownership to user abhi\n",
        "\n",
        "sudo chmod 755 /tmp/bg   #Set permissions so abhi can create, delete, and modify files inside\n"
      ],
      "metadata": {
        "id": "uak3Yzof2oij"
      },
      "execution_count": null,
      "outputs": []
    },
    {
      "cell_type": "markdown",
      "source": [
        "8. How to Identify and Terminate a Process Consuming Excessive CPU"
      ],
      "metadata": {
        "id": "Z0kdoxoD20vZ"
      }
    },
    {
      "cell_type": "code",
      "source": [
        "top  #Identify process consuming high CPU\n",
        "\n",
        "sudo kill <PID>   #Terminate the process using kill\n",
        "\n"
      ],
      "metadata": {
        "id": "GyQkg3pJ21jG"
      },
      "execution_count": null,
      "outputs": []
    }
  ]
}