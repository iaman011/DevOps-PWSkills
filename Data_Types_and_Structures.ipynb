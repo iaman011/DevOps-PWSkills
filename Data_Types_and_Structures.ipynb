{
  "nbformat": 4,
  "nbformat_minor": 0,
  "metadata": {
    "colab": {
      "provenance": []
    },
    "kernelspec": {
      "name": "python3",
      "display_name": "Python 3"
    },
    "language_info": {
      "name": "python"
    }
  },
  "cells": [
    {
      "cell_type": "markdown",
      "source": [
        "#Data Types and Structures"
      ],
      "metadata": {
        "id": "AxL7m4n55_xe"
      }
    },
    {
      "cell_type": "markdown",
      "source": [
        "Q1. What are data structures, and why are they important?"
      ],
      "metadata": {
        "id": "_RNtjsPm6TmR"
      }
    },
    {
      "cell_type": "markdown",
      "source": [
        "ANS: Data structures are specialized formats for organizing, storing, and retrieving data efficiently.\n",
        "\n",
        "Importance:\n",
        "Efficiency → Provide faster access and manipulation (e.g., dictionary lookups in O(1)).\n",
        "\n",
        "Scalability → Handle large volumes of data.\n",
        "\n",
        "Reusability → Common algorithms work on standard structures (stacks, queues, trees).\n",
        "\n",
        "Real-world applications → Databases, operating systems, search engines, compilers.\n",
        "\n",
        "Example:\n",
        "\n",
        "Using a queue in ticket booking ensures \"first come, first served\".\n",
        "\n",
        "Using a hash table (dictionary) allows instant retrieval of a student’s record by roll number."
      ],
      "metadata": {
        "id": "YmJxBV2C6jx7"
      }
    },
    {
      "cell_type": "markdown",
      "source": [
        "Q2. Explain the difference between mutable and immutable data types with examples."
      ],
      "metadata": {
        "id": "etiBRbqS6szo"
      }
    },
    {
      "cell_type": "markdown",
      "source": [
        "Ans:\n",
        "\n",
        "1. Mutable (Changeable after creation):\n",
        "\n",
        "Examples: list, dict, set.\n",
        "\n",
        "Memory is not reallocated, data can be modified in-place.\n",
        "\n",
        "a = [1, 2, 3]\n",
        "a.append(4)    # [1, 2, 3, 4]\n",
        "\n",
        "2. Immutable (Cannot be changed):\n",
        "\n",
        "Examples: tuple, string, int, float.\n",
        "\n",
        "Any modification creates a new object in memory.\n",
        "\n",
        "s = \"hello\"\n",
        "s = s + \" world\"   # Creates a new string, old \"hello\" discarded"
      ],
      "metadata": {
        "id": "DHpxHb076wwN"
      }
    },
    {
      "cell_type": "markdown",
      "source": [
        "Q3. What are the main differences between lists and tuples in Python?"
      ],
      "metadata": {
        "id": "nXUxOek560B7"
      }
    },
    {
      "cell_type": "markdown",
      "source": [
        "ANS: The main difference between lists and tuples in Python is that lists are mutable while tuples are immutable. This means the elements of a list can be changed, added, or removed after the list is created, but a tuple cannot be modified once it is defined. Lists are written using square brackets [ ], while tuples are written using parentheses ( ). Because tuples are immutable, they are generally faster and take up less memory compared to lists.\n",
        "\n",
        "Example:\n",
        "\n",
        " List - mutable\n",
        "my_list = [1, 2, 3]\n",
        "my_list[0] = 10   # Allowed\n",
        "\n",
        " Tuple - immutable\n",
        "my_tuple = (1, 2, 3)\n",
        " my_tuple[0] = 10  # Not allowed"
      ],
      "metadata": {
        "id": "LxJUjALF7fVA"
      }
    },
    {
      "cell_type": "markdown",
      "source": [
        "Q4. Describe how dictionaries store data."
      ],
      "metadata": {
        "id": "egsta0kY7or0"
      }
    },
    {
      "cell_type": "markdown",
      "source": [
        "ANS:\n",
        "\n",
        "A dictionary uses a hash table to store key-value pairs.\n",
        "\n",
        "Each key is converted to a hash code using Python’s hash() function.\n",
        "\n",
        "Hash maps the key to an index in memory, pointing to the value.\n",
        "\n",
        "Diagram (conceptual):\n",
        "\n",
        "Dictionary = { \"name\": \"Alice\", \"age\": 30 }\n",
        "\n",
        "Hash(\"name\") → Index 101 → \"Alice\"\n",
        "Hash(\"age\")  → Index 205 → 30"
      ],
      "metadata": {
        "id": "XI0C3Fb07kOY"
      }
    },
    {
      "cell_type": "markdown",
      "source": [
        "Q5. Why might you use a set instead of a list in Python?"
      ],
      "metadata": {
        "id": "atv-T5Mv7ymk"
      }
    },
    {
      "cell_type": "markdown",
      "source": [
        "ANS:\n",
        "\n",
        "Sets automatically remove duplicates.\n",
        "\n",
        "Set operations (union, intersection, difference) are faster than manual list checks.\n",
        "\n",
        "Example:\n",
        "\n",
        "List of voters with duplicates → Convert to a set to keep unique voters.\n",
        "\n",
        "Checking membership in a set (in) is O(1), while in a list it is O(n)."
      ],
      "metadata": {
        "id": "q_rc92Zg711s"
      }
    },
    {
      "cell_type": "markdown",
      "source": [
        "Q6. What is a string in Python, and how is it different from a list?"
      ],
      "metadata": {
        "id": "jwPxqi4E740_"
      }
    },
    {
      "cell_type": "markdown",
      "source": [
        "ANS:\n",
        "\n",
        "String: Immutable sequence of characters.\n",
        "\n",
        "List: Mutable collection of elements.\n",
        "\n",
        "Differences:\n",
        "\n",
        "Strings can only hold characters; lists can hold any type.\n",
        "\n",
        "Strings cannot be modified directly; lists can.\n",
        "\n",
        "s = \"hello\"\n",
        "s[0] = \"H\"\n",
        "l = ['h','e','l','l','o']\n",
        "l[0] = 'H'  "
      ],
      "metadata": {
        "id": "FrlORT1z4oON"
      }
    },
    {
      "cell_type": "markdown",
      "source": [
        "Q7. How do tuples ensure data integrity in Python?"
      ],
      "metadata": {
        "id": "_xx7FR7t4yhw"
      }
    },
    {
      "cell_type": "markdown",
      "source": [
        "ANS:\n",
        "\n",
        "Tuples are immutable, meaning values cannot be changed after creation.\n",
        "\n",
        "Useful when storing constant data (e.g., configuration settings, GPS coordinates).\n",
        "\n",
        "Example:\n",
        "\n",
        "config = (\"localhost\", 3306)  # Database connection (host, port)"
      ],
      "metadata": {
        "id": "v9TOeo5L43LI"
      }
    },
    {
      "cell_type": "markdown",
      "source": [
        "Q8. What is a hash table, and how does it relate to dictionaries in Python?"
      ],
      "metadata": {
        "id": "6MT7HEcm47Pt"
      }
    },
    {
      "cell_type": "markdown",
      "source": [
        "ANS:\n",
        "\n",
        "A hash table is a data structure that maps keys to values using a hashing function.\n",
        "\n",
        "Python dictionaries are implemented as hash tables.\n",
        "\n",
        "Average complexity for insert, delete, and search is O(1).\n",
        "\n",
        "Example:\n",
        "\n",
        "phonebook = {\"Alice\": \"123\", \"Bob\": \"456\"}\n",
        "print(phonebook[\"Bob\"])  # Lookup O(1)"
      ],
      "metadata": {
        "id": "CVKohLLt4-5F"
      }
    },
    {
      "cell_type": "markdown",
      "source": [
        "Q9. Can lists contain different data types in Python?"
      ],
      "metadata": {
        "id": "au7UtU9Y5CdU"
      }
    },
    {
      "cell_type": "markdown",
      "source": [
        "ANS:\n",
        "\n",
        "Yes. Python lists are heterogeneous.\n",
        "\n",
        "mixed = [1, \"apple\", 3.14, True, [5,6]]\n",
        "This flexibility makes lists very powerful."
      ],
      "metadata": {
        "id": "h8WmmJzX5FA5"
      }
    },
    {
      "cell_type": "markdown",
      "source": [
        "Q10. Explain why strings are immutable in Python."
      ],
      "metadata": {
        "id": "CsTysbDv5Hnw"
      }
    },
    {
      "cell_type": "markdown",
      "source": [
        "ANS: Strings are immutable because:\n",
        "\n",
        "1. Performance → Reusing objects instead of modifying saves memory.\n",
        "\n",
        "2. Security → Prevents accidental or malicious changes (useful in passwords).\n",
        "\n",
        "3. Hashability → Allows strings to be used as dictionary keys."
      ],
      "metadata": {
        "id": "ZMLRG4Jx5K40"
      }
    },
    {
      "cell_type": "markdown",
      "source": [
        "Q11. What advantages do dictionaries offer over lists for certain tasks?"
      ],
      "metadata": {
        "id": "6jcBOQwS5URX"
      }
    },
    {
      "cell_type": "markdown",
      "source": [
        "ANS:\n",
        "\n",
        "Fast lookup by keys (O(1)).\n",
        "\n",
        "Data stored in a meaningful key-value relationship instead of numeric indexes.\n",
        "\n",
        "Better suited for real-world mappings (ID → Student, Word → Meaning)."
      ],
      "metadata": {
        "id": "aUDO5Siz5XLz"
      }
    },
    {
      "cell_type": "markdown",
      "source": [
        "Q12. Describe a scenario where using a tuple would be preferable over a list."
      ],
      "metadata": {
        "id": "jeZVqEK15Z3a"
      }
    },
    {
      "cell_type": "markdown",
      "source": [
        "ANS:\n",
        "\n",
        "Fixed configuration: (server IP, port).\n",
        "\n",
        "Coordinates: (x, y, z).\n",
        "\n",
        "Days of the week: Should not change."
      ],
      "metadata": {
        "id": "YSuirBFY5dPw"
      }
    },
    {
      "cell_type": "markdown",
      "source": [
        "Q13. How do sets handle duplicate values in Python?"
      ],
      "metadata": {
        "id": "jYrlj77H5gCN"
      }
    },
    {
      "cell_type": "markdown",
      "source": [
        "ANS:\n",
        "\n",
        "Sets ignore duplicates automatically.\n",
        "s = {1,2,2,3,4}\n",
        "print(s)  # {1,2,3,4}"
      ],
      "metadata": {
        "id": "lNlCrBsA5jA8"
      }
    },
    {
      "cell_type": "markdown",
      "source": [
        "Q14. How does the “in” keyword work differently for lists and dictionaries?"
      ],
      "metadata": {
        "id": "TLGcUWPQ5mBN"
      }
    },
    {
      "cell_type": "markdown",
      "source": [
        "ANS:\n",
        "\n",
        "List: Checks for element existence.\n",
        "\n",
        "Dictionary: Checks for key existence, not value.\n",
        "\n",
        "print(2 in [1,2,3])  # True\n",
        "print(\"age\" in {\"name\":\"Alice\", \"age\":25})  # True"
      ],
      "metadata": {
        "id": "k_F-YcRu5p9U"
      }
    },
    {
      "cell_type": "markdown",
      "source": [
        "Q15. Can you modify the elements of a tuple? Explain why or why not."
      ],
      "metadata": {
        "id": "g3AX_qpJ5s1V"
      }
    },
    {
      "cell_type": "markdown",
      "source": [
        "ANS:\n",
        "\n",
        "No, because tuples are immutable.\n",
        "\n",
        "This ensures data safety and prevents unintentional changes."
      ],
      "metadata": {
        "id": "c3H_jlBB5vX8"
      }
    },
    {
      "cell_type": "markdown",
      "source": [
        "Q16. What is a nested dictionary, and give an example of its use case."
      ],
      "metadata": {
        "id": "X-gXYVIX5zDB"
      }
    },
    {
      "cell_type": "markdown",
      "source": [
        "ANS: A dictionary that contains another dictionary.\n",
        "\n",
        "Example:\n",
        "\n",
        "student = {\n",
        "    \"name\": \"Alice\",\n",
        "    \"marks\": {\"math\": 95, \"science\": 88}\n",
        "}\n",
        "print(student[\"marks\"][\"math\"])  # 95"
      ],
      "metadata": {
        "id": "mO52hKuz52SQ"
      }
    },
    {
      "cell_type": "markdown",
      "source": [
        "Q17. Describe the time complexity of accessing elements in a dictionary."
      ],
      "metadata": {
        "id": "kr_YSLcv6Tpr"
      }
    },
    {
      "cell_type": "markdown",
      "source": [
        "Ans:\n",
        "\n",
        "Average Case: O(1) (direct hash lookup).\n",
        "\n",
        "Worst Case: O(n) (if hash collisions happen)."
      ],
      "metadata": {
        "id": "0kRyjhAy6WVl"
      }
    },
    {
      "cell_type": "markdown",
      "source": [
        "Q18. In what situations are lists preferred over dictionaries?"
      ],
      "metadata": {
        "id": "JQPP8qK76ZKg"
      }
    },
    {
      "cell_type": "markdown",
      "source": [
        "Ans:\n",
        "\n",
        "When order matters.\n",
        "\n",
        "When storing duplicates.\n",
        "\n",
        "When accessing by index instead of keys.\n",
        "\n",
        "Example: Maintaining a to-do list in order."
      ],
      "metadata": {
        "id": "rd0tEolE6cKS"
      }
    },
    {
      "cell_type": "markdown",
      "source": [
        "Q19. Why are dictionaries considered unordered, and how does that affect data retrieval?"
      ],
      "metadata": {
        "id": "8QSRZjVH6e_D"
      }
    },
    {
      "cell_type": "markdown",
      "source": [
        "Ans:\n",
        "\n",
        "Before Python 3.7, dictionaries were unordered.\n",
        "\n",
        "From Python 3.7+, they preserve insertion order.\n",
        "\n",
        "Retrieval is still by key, not position."
      ],
      "metadata": {
        "id": "taLx_7GF6h2_"
      }
    },
    {
      "cell_type": "markdown",
      "source": [
        "Q20. Explain the difference between a list and a dictionary in terms of data retrieval."
      ],
      "metadata": {
        "id": "15d7zocn6llU"
      }
    },
    {
      "cell_type": "markdown",
      "source": [
        "Ans: A list retrieves elements using their index positions, where the first element is at index 0, the second at index 1, and so on. This makes lists useful when the order of elements is important or when you want to access data by its position.\n",
        "\n",
        "On the other hand, a dictionary retrieves elements using keys instead of numeric indexes. Each key in a dictionary maps to a value, allowing faster and more meaningful lookups. Since keys are unique, dictionaries are best when you want to quickly access data based on a label or identifier rather than its position.\n",
        "\n",
        "Example:\n",
        "\n",
        "1. List retrieval by index\n",
        "my_list = [\"apple\", \"banana\", \"cherry\"]\n",
        "print(my_list[1])   # Output: banana\n",
        "\n",
        "2. Dictionary retrieval by key\n",
        "my_dict = {\"fruit1\": \"apple\", \"fruit2\": \"banana\", \"fruit3\": \"cherry\"}\n",
        "print(my_dict[\"fruit2\"])  # Output: banana"
      ],
      "metadata": {
        "id": "ZtI5H1JV6oU_"
      }
    },
    {
      "cell_type": "markdown",
      "source": [
        "# Practical Questions with Python Code:"
      ],
      "metadata": {
        "id": "WtBxa2wB6v3V"
      }
    },
    {
      "cell_type": "code",
      "source": [
        "# 1. Create a string with your name\n",
        "print(\"Q1. Create a string with your name\")\n",
        "name = \"Aman\"\n",
        "print(name)\n",
        "\n",
        "# 2. Length of \"Hello World\"\n",
        "print(\"Q2. Find the length of the string 'Hello World'\")\n",
        "print(len(\"Hello World\"))\n",
        "\n",
        "# 3. Slice first 3 chars from \"Python Programming\"\n",
        "print(\"Q3. Slice the first 3 characters from 'Python Programming'\")\n",
        "print(\"Python Programming\"[:3])\n",
        "\n",
        "# 4. Convert \"hello\" to uppercase\n",
        "print(\"Q4. Convert 'hello' to uppercase\")\n",
        "print(\"hello\".upper())\n",
        "\n",
        "# 5. Replace \"apple\" with \"orange\"\n",
        "print(\"Q5. Replace 'apple' with 'orange' in the string 'I like apple'\")\n",
        "print(\"I like apple\".replace(\"apple\", \"orange\"))\n",
        "\n",
        "# 6. List with numbers 1 to 5\n",
        "print(\"Q6. Create a list with numbers 1 to 5\")\n",
        "nums = [1, 2, 3, 4, 5]\n",
        "print(nums)\n",
        "\n",
        "# 7. Append 10 to list\n",
        "print(\"Q7. Append the number 10 to the list [1, 2, 3, 4]\")\n",
        "lst = [1, 2, 3, 4]\n",
        "lst.append(10)\n",
        "print(lst)\n",
        "\n",
        "# 8. Remove 3 from list\n",
        "print(\"Q8. Remove the number 3 from the list [1, 2, 3, 4, 5]\")\n",
        "lst2 = [1, 2, 3, 4, 5]\n",
        "lst2.remove(3)\n",
        "print(lst2)\n",
        "\n",
        "# 9. Access 2nd element\n",
        "print(\"Q9. Access the second element in the list ['a', 'b', 'c', 'd']\")\n",
        "letters = ['a', 'b', 'c', 'd']\n",
        "print(letters[1])\n",
        "\n",
        "# 10. Reverse list\n",
        "print(\"Q10. Reverse the list [10, 20, 30, 40, 50]\")\n",
        "nums2 = [10, 20, 30, 40, 50]\n",
        "nums2.reverse()\n",
        "print(nums2)\n",
        "\n",
        "# 11. Create a tuple\n",
        "print(\"Q11. Create a tuple with elements 100, 200, 300\")\n",
        "t = (100, 200, 300)\n",
        "print(t)\n",
        "\n",
        "# 12. Access second-to-last element\n",
        "print(\"Q12. Access the second-to-last element of ('red', 'green', 'blue', 'yellow')\")\n",
        "colors = ('red', 'green', 'blue', 'yellow')\n",
        "print(colors[-2])\n",
        "\n",
        "# 13. Find min number in tuple\n",
        "print(\"Q13. Find the minimum number in the tuple (10, 20, 5, 15)\")\n",
        "t2 = (10, 20, 5, 15)\n",
        "print(min(t2))\n",
        "\n",
        "# 14. Find index of \"cat\"\n",
        "print(\"Q14. Find the index of 'cat' in the tuple ('dog', 'cat', 'rabbit')\")\n",
        "animals = ('dog', 'cat', 'rabbit')\n",
        "print(animals.index(\"cat\"))\n",
        "\n",
        "# 15. Check if 'kiwi' in tuple\n",
        "print(\"Q15. Create a tuple with fruits and check if 'kiwi' is in it\")\n",
        "fruits = (\"apple\", \"banana\", \"mango\")\n",
        "print(\"kiwi\" in fruits)\n",
        "\n",
        "# 16. Create set\n",
        "print(\"Q16. Create a set with the elements 'a', 'b', 'c'\")\n",
        "s = {'a', 'b', 'c'}\n",
        "print(s)\n",
        "\n",
        "# 17. Clear set\n",
        "print(\"Q17. Clear all elements from the set {1, 2, 3, 4, 5}\")\n",
        "s2 = {1, 2, 3, 4, 5}\n",
        "s2.clear()\n",
        "print(s2)\n",
        "\n",
        "# 18. Remove element 4 from set\n",
        "print(\"Q18. Remove the element 4 from the set {1, 2, 3, 4}\")\n",
        "s3 = {1, 2, 3, 4}\n",
        "s3.remove(4)\n",
        "print(s3)\n",
        "\n",
        "# 19. Union of sets\n",
        "print(\"Q19. Find the union of sets {1, 2, 3} and {3, 4, 5}\")\n",
        "print({1, 2, 3} | {3, 4, 5})\n",
        "\n",
        "# 20. Intersection of sets\n",
        "print(\"Q20. Find the intersection of sets {1, 2, 3} and {2, 3, 4}\")\n",
        "print({1, 2, 3} & {2, 3, 4})\n",
        "\n",
        "# 21. Create dictionary\n",
        "print(\"Q21. Create a dictionary with keys 'name', 'age', 'city'\")\n",
        "d = {\"name\": \"John\", \"age\": 25, \"city\": \"New York\"}\n",
        "print(d)\n",
        "\n",
        "# 22. Add new key-value pair\n",
        "print(\"Q22. Add 'country':'USA' to {'name': 'John', 'age': 25}\")\n",
        "d2 = {'name': 'John', 'age': 25}\n",
        "d2[\"country\"] = \"USA\"\n",
        "print(d2)\n",
        "\n",
        "# 23. Access value by key\n",
        "print(\"Q23. Access the value of 'name' from {'name':'Alice', 'age':30}\")\n",
        "d3 = {'name': 'Alice', 'age': 30}\n",
        "print(d3[\"name\"])\n",
        "\n",
        "# 24. Remove key \"age\"\n",
        "print(\"Q24. Remove the key 'age' from {'name': 'Bob', 'age': 22, 'city': 'New York'}\")\n",
        "d4 = {'name': 'Bob', 'age': 22, 'city': 'New York'}\n",
        "d4.pop(\"age\")\n",
        "print(d4)\n",
        "\n",
        "# 25. Check if \"city\" key exists\n",
        "print(\"Q25. Check if 'city' exists in {'name': 'Alice', 'city': 'Paris'}\")\n",
        "d5 = {'name': 'Alice', 'city': 'Paris'}\n",
        "print(\"city\" in d5)\n",
        "\n",
        "# 26. Create list, tuple, dict\n",
        "print(\"Q26. Create a list, tuple, and dictionary, and print them all\")\n",
        "print([1, 2, 3], (4, 5, 6), {\"a\": 10, \"b\": 20})\n",
        "\n",
        "# 27. Random list of 5 numbers, sort ascending\n",
        "print(\"Q27. Create a list of 5 random numbers between 1 and 100, sort in ascending order\")\n",
        "import random\n",
        "rand_nums = random.sample(range(1, 101), 5)\n",
        "rand_nums.sort()\n",
        "print(rand_nums)\n",
        "\n",
        "# 28. List with strings, print 3rd index\n",
        "print(\"Q28. Create a list with strings and print element at 3rd index\")\n",
        "words = [\"apple\", \"banana\", \"cherry\", \"date\"]\n",
        "print(words[3])\n",
        "\n",
        "# 29. Combine dictionaries\n",
        "print(\"Q29. Combine two dictionaries into one\")\n",
        "d6 = {\"a\": 1, \"b\": 2}\n",
        "d7 = {\"c\": 3, \"d\": 4}\n",
        "d6.update(d7)\n",
        "print(d6)\n",
        "\n",
        "# 30. Convert list of strings into set\n",
        "print(\"Q30. Convert a list of strings into a set\")\n",
        "string_list = [\"apple\", \"banana\", \"apple\"]\n",
        "print(set(string_list))\n",
        "\n",
        "\n",
        "Q1. Create a string with your name\n",
        "Aman\n",
        "Q2. Find the length of the string 'Hello World'\n",
        "11\n",
        "Q3. Slice the first 3 characters from 'Python Programming'\n",
        "Pyt\n",
        "Q4. Convert 'hello' to uppercase\n",
        "HELLO\n",
        "Q5. Replace 'apple' with 'orange' in the string 'I like apple'\n",
        "I like orange\n",
        "Q6. Create a list with numbers 1 to 5\n",
        "[1, 2, 3, 4, 5]\n",
        "Q7. Append the number 10 to the list [1, 2, 3, 4]\n",
        "[1, 2, 3, 4, 10]\n",
        "Q8. Remove the number 3 from the list [1, 2, 3, 4, 5]\n",
        "[1, 2, 4, 5]\n",
        "Q9. Access the second element in the list ['a', 'b', 'c', 'd']\n",
        "b\n",
        "Q10. Reverse the list [10, 20, 30, 40, 50]\n",
        "[50, 40, 30, 20, 10]\n",
        "Q11. Create a tuple with elements 100, 200, 300\n",
        "(100, 200, 300)\n",
        "Q12. Access the second-to-last element of ('red', 'green', 'blue', 'yellow')\n",
        "blue\n",
        "Q13. Find the minimum number in the tuple (10, 20, 5, 15)\n",
        "5\n",
        "Q14. Find the index of 'cat' in the tuple ('dog', 'cat', 'rabbit')\n",
        "1\n",
        "Q15. Create a tuple with fruits and check if 'kiwi' is in it\n",
        "False\n",
        "Q16. Create a set with the elements 'a', 'b', 'c'\n",
        "{'a', 'b', 'c'}\n",
        "Q17. Clear all elements from the set {1, 2, 3, 4, 5}\n",
        "set()\n",
        "Q18. Remove the element 4 from the set {1, 2, 3, 4}\n",
        "{1, 2, 3}\n",
        "Q19. Find the union of sets {1, 2, 3} and {3, 4, 5}\n",
        "{1, 2, 3, 4, 5}\n",
        "Q20. Find the intersection of sets {1, 2, 3} and {2, 3, 4}\n",
        "{2, 3}\n",
        "Q21. Create a dictionary with keys 'name', 'age', 'city'\n",
        "{'name': 'John', 'age': 25, 'city': 'New York'}\n",
        "Q22. Add 'country':'USA' to {'name': 'John', 'age': 25}\n",
        "{'name': 'John', 'age': 25, 'country': 'USA'}\n",
        "Q23. Access the value of 'name' from {'name':'Alice', 'age':30}\n",
        "Alice\n",
        "Q24. Remove the key 'age' from {'name': 'Bob', 'age': 22, 'city': 'New York'}\n",
        "{'name': 'Bob', 'city': 'New York'}\n",
        "Q25. Check if 'city' exists in {'name': 'Alice', 'city': 'Paris'}\n",
        "True\n",
        "Q26. Create a list, tuple, and dictionary, and print them all\n",
        "[1, 2, 3] (4, 5, 6) {'a': 10, 'b': 20}\n",
        "Q27. Create a list of 5 random numbers between 1 and 100, sort in ascending order\n",
        "[44, 46, 75, 85, 88]\n",
        "Q28. Create a list with strings and print element at 3rd index\n",
        "date\n",
        "Q29. Combine two dictionaries into one\n",
        "{'a': 1, 'b': 2, 'c': 3, 'd': 4}\n",
        "Q30. Convert a list of strings into a set\n",
        "{'banana', 'apple'}"
      ],
      "metadata": {
        "id": "UcWZiZSy63bk"
      },
      "execution_count": null,
      "outputs": []
    }
  ]
}