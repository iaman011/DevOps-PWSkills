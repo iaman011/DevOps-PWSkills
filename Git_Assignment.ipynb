{
  "nbformat": 4,
  "nbformat_minor": 0,
  "metadata": {
    "colab": {
      "provenance": []
    },
    "kernelspec": {
      "name": "python3",
      "display_name": "Python 3"
    },
    "language_info": {
      "name": "python"
    }
  },
  "cells": [
    {
      "cell_type": "markdown",
      "source": [
        "#Git"
      ],
      "metadata": {
        "id": "xDEKEYe5ZwMI"
      }
    },
    {
      "cell_type": "markdown",
      "source": [
        "1. Based on what you have learnt in the class, do the following steps:\n",
        " a. Create a new folder\n",
        "b. Put the following files in the folder                                    Code.txt                                     Log.txt                                     Output.txt\n",
        "c. Stage the Code.txt and Output.txt files\n",
        "d. Commit them\n",
        "e. And finally push them to GitHub\n",
        "\n",
        " Please share the commands for the above points\n"
      ],
      "metadata": {
        "id": "RDYKsRYDaJ91"
      }
    },
    {
      "cell_type": "code",
      "source": [
        "# Create folder and move into it\n",
        "mkdir MyProject\n",
        "cd MyProject\n",
        "\n",
        "# Create files\n",
        "touch Code.txt Log.txt Output.txt\n",
        "\n",
        "# Initialize git\n",
        "git init\n",
        "\n",
        "# Stage Code.txt and Output.txt\n",
        "git add Code.txt Output.txt\n",
        "\n",
        "# Commit them\n",
        "git commit -m \"Add Code and Output files\"\n",
        "\n",
        "# Add remote GitHub URL\n",
        "git remote add origin https://github.com/iaman011/DevOps-PWSkills.git\n",
        "\n",
        "# Push to GitHub\n",
        "git push -u origin main\n"
      ],
      "metadata": {
        "id": "y1ZdfDsaapfR"
      },
      "execution_count": null,
      "outputs": []
    },
    {
      "cell_type": "markdown",
      "source": [
        "2.Tasks to Be Performed:\n",
        "1. Create a Git working directory with feature1.txt and feature2.txt in the master branch\n",
        "2. Create 3 branches develop, feature1 and feature2\n",
        "3. In develop branch create develop.txt, do not stage or commit it\n",
        "4. Stash this file and check out to feature1 branch\n",
        "5. Create new.txt file in feature1 branch, stage and commit this file\n",
        "6. Checkout to develop, unstash this file and commit\n",
        "7. Please submit all the Git commands used to do the above step"
      ],
      "metadata": {
        "id": "o1-xt2kgbPD1"
      }
    },
    {
      "cell_type": "code",
      "source": [
        "# Create project and initialize git\n",
        "mkdir GitProject\n",
        "cd GitProject\n",
        "git init\n",
        "\n",
        "# Create files in master\n",
        "touch feature1.txt feature2.txt\n",
        "git add .\n",
        "git commit -m \"Add feature1 and feature2 files\"\n",
        "\n",
        "# Create branches\n",
        "git branch develop\n",
        "git branch feature1\n",
        "git branch feature2\n",
        "\n",
        "# Switch to develop branch\n",
        "git checkout develop\n",
        "touch develop.txt\n",
        "\n",
        "# Stash develop.txt (since it's untracked)\n",
        "git add develop.txt\n",
        "git stash\n",
        "\n",
        "# Checkout feature1 branch\n",
        "git checkout feature1\n",
        "touch new.txt\n",
        "git add new.txt\n",
        "git commit -m \"Add new file in feature1 branch\"\n",
        "\n",
        "# Switch back to develop, unstash and commit\n",
        "git checkout develop\n",
        "git stash pop\n",
        "git add develop.txt\n",
        "git commit -m \"Add develop.txt file\"\n"
      ],
      "metadata": {
        "id": "sknU5faDcSjC"
      },
      "execution_count": null,
      "outputs": []
    },
    {
      "cell_type": "markdown",
      "source": [
        "3.Tasks to Be Performed:\n",
        "1. Create a Git working directory, with the following branches:                Develop                F1                f2\n",
        "2. In the master branch, commit main.txt file\n",
        "3. Put develop.txt in develop branch, f1.txt and f2.txt in f1 and f2 respectively\n",
        "4. Push all these branches to GitHub\n",
        "5. On local delete f2 branch 6. Delete the same branch on GitHub as well"
      ],
      "metadata": {
        "id": "YFFntGQ1cZKC"
      }
    },
    {
      "cell_type": "code",
      "source": [
        "# Init repo\n",
        "git init\n",
        "\n",
        "# Create and commit in master\n",
        "touch main.txt\n",
        "git add main.txt\n",
        "git commit -m \"Add main file in master\"\n",
        "\n",
        "# Create branches\n",
        "git branch Develop\n",
        "git branch F1\n",
        "git branch F2\n",
        "\n",
        "# Switch and add respective files\n",
        "git checkout Develop\n",
        "touch develop.txt\n",
        "git add develop.txt\n",
        "git commit -m \"Add develop file\"\n",
        "\n",
        "git checkout F1\n",
        "touch f1.txt\n",
        "git add f1.txt\n",
        "git commit -m \"Add f1 file\"\n",
        "\n",
        "git checkout F2\n",
        "touch f2.txt\n",
        "git add f2.txt\n",
        "git commit -m \"Add f2 file\"\n",
        "\n",
        "# Push all branches\n",
        "git push origin master\n",
        "git push origin Develop\n",
        "git push origin F1\n",
        "git push origin F2\n",
        "\n",
        "# Delete F2 locally\n",
        "git branch -d F2\n",
        "\n",
        "# Delete F2 from remote\n",
        "git push origin --delete F2\n"
      ],
      "metadata": {
        "id": "X4QmVkwIcl6Q"
      },
      "execution_count": null,
      "outputs": []
    },
    {
      "cell_type": "markdown",
      "source": [
        "4.Tasks to Be Performed:\n",
        "1. Put master.txt on master branch, stage and commit\n",
        "2. Create 3 branches: public 1, public 2 and private\n",
        "3. Put public1.txt on public 1 branch, stage and commit\n",
        "4. Merge public 1 on master branch\n",
        "5. Merge public 2 on master branch\n",
        "6. Edit master.txt on private branch, stage and commit\n",
        "7. Now update branch public 1 and public 2 with new master code in private\n",
        "8. Also update new master code on master\n",
        "9. Finally update all the code on the private branch"
      ],
      "metadata": {
        "id": "dHb-mczwcytq"
      }
    },
    {
      "cell_type": "code",
      "source": [
        "# In master\n",
        "touch master.txt\n",
        "git add master.txt\n",
        "git commit -m \"Add master.txt\"\n",
        "\n",
        "# Create branches\n",
        "git branch public1\n",
        "git branch public2\n",
        "git branch private\n",
        "\n",
        "# In public1\n",
        "git checkout public1\n",
        "touch public1.txt\n",
        "git add public1.txt\n",
        "git commit -m \"Add public1 file\"\n",
        "\n",
        "# Merge public1 into master\n",
        "git checkout master\n",
        "git merge public1\n",
        "\n",
        "# In public2\n",
        "git checkout public2\n",
        "touch public2.txt\n",
        "git add public2.txt\n",
        "git commit -m \"Add public2 file\"\n",
        "\n",
        "# Merge public2 into master\n",
        "git checkout master\n",
        "git merge public2\n",
        "\n",
        "# In private branch\n",
        "git checkout private\n",
        "echo \"Edit master.txt\" >> master.txt\n",
        "git add master.txt\n",
        "git commit -m \"Edit master.txt in private\"\n",
        "\n",
        "# Merge new master into public1 & public2\n",
        "git checkout public1\n",
        "git merge master\n",
        "\n",
        "git checkout public2\n",
        "git merge master\n",
        "\n",
        "# Finally push everything\n",
        "git push --all"
      ],
      "metadata": {
        "id": "dmrctpxMdVcz"
      },
      "execution_count": null,
      "outputs": []
    },
    {
      "cell_type": "markdown",
      "source": [
        "5.Tasks to Be Performed:\n",
        "1. Create a Git Flow workflow architecture on Git\n",
        "2. Create all the required branches\n",
        "3. starting from e feature branch, push the branch to the master, following the architecture\n",
        "4. Push an urgent.txt on master using hotfix"
      ],
      "metadata": {
        "id": "Bbb9AVzSe2i7"
      }
    },
    {
      "cell_type": "code",
      "source": [
        "# Init repo\n",
        "git init\n",
        "\n",
        "# Commit initial file\n",
        "touch masterfile.txt\n",
        "git add masterfile.txt\n",
        "git commit -m \"Initial master commit\"\n",
        "\n",
        "# Create develop branch\n",
        "git branch develop\n",
        "\n",
        "# Create feature branch from develop\n",
        "git checkout develop\n",
        "git branch feature/login\n",
        "git checkout feature/login\n",
        "touch login.txt\n",
        "git add login.txt\n",
        "git commit -m \"Add login feature\"\n",
        "\n",
        "# Merge feature to develop\n",
        "git checkout develop\n",
        "git merge feature/login\n",
        "\n",
        "# Merge develop to master\n",
        "git checkout master\n",
        "git merge develop\n",
        "\n",
        "# Create hotfix branch from master\n",
        "git branch hotfix/urgent-fix\n",
        "git checkout hotfix/urgent-fix\n",
        "touch urgent.txt\n",
        "git add urgent.txt\n",
        "git commit -m \"Add urgent fix\"\n",
        "\n",
        "# Merge hotfix to master\n",
        "git checkout master\n",
        "git merge hotfix/urgent-fix\n",
        "\n",
        "# Push all branches\n",
        "git push --all\n"
      ],
      "metadata": {
        "id": "0O4rFjL4fPQV"
      },
      "execution_count": null,
      "outputs": []
    }
  ]
}